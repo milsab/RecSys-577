{
 "cells": [
  
  {
   "cell_type": "code",
   "execution_count": 1,
   "metadata": {},
   "outputs": [],
   "source": [
    "import numpy as np\n",
    "import pandas as pd\n",
    "import math"
   ]
  },
  {
   "cell_type": "markdown",
   "metadata": {},
   "source": [
    "# <span style = 'color: green'>Part 1. Query Expansion Using Automatic Global Analysis</span>"
   ]
  },
  {
   "cell_type": "markdown",
   "metadata": {},
   "source": [
    "## <span style = 'color: blue'>1.a. Write a program to create a term-by-term association matrix</span>"
   ]
  },
  {
   "cell_type": "code",
   "execution_count": 2,
   "metadata": {},
   "outputs": [],
   "source": [
    "doc_term = pd.read_csv('HW3.csv')"
   ]
  },
  {
   "cell_type": "code",
   "execution_count": 3,
   "metadata": {},
   "outputs": [
    {
     "data": {
      "text/html": [
       "<div>\n",
       "<style scoped>\n",
       "    .dataframe tbody tr th:only-of-type {\n",
       "        vertical-align: middle;\n",
       "    }\n",
       "\n",
       "    .dataframe tbody tr th {\n",
       "        vertical-align: top;\n",
       "    }\n",
       "\n",
       "    .dataframe thead th {\n",
       "        text-align: right;\n",
       "    }\n",
       "</style>\n",
       "<table border=\"1\" class=\"dataframe\">\n",
       "  <thead>\n",
       "    <tr style=\"text-align: right;\">\n",
       "      <th></th>\n",
       "      <th>A</th>\n",
       "      <th>B</th>\n",
       "      <th>C</th>\n",
       "      <th>D</th>\n",
       "      <th>E</th>\n",
       "      <th>F</th>\n",
       "      <th>G</th>\n",
       "      <th>H</th>\n",
       "    </tr>\n",
       "  </thead>\n",
       "  <tbody>\n",
       "    <tr>\n",
       "      <th>0</th>\n",
       "      <td>0</td>\n",
       "      <td>3</td>\n",
       "      <td>4</td>\n",
       "      <td>0</td>\n",
       "      <td>0</td>\n",
       "      <td>2</td>\n",
       "      <td>4</td>\n",
       "      <td>0</td>\n",
       "    </tr>\n",
       "    <tr>\n",
       "      <th>1</th>\n",
       "      <td>5</td>\n",
       "      <td>5</td>\n",
       "      <td>0</td>\n",
       "      <td>0</td>\n",
       "      <td>4</td>\n",
       "      <td>0</td>\n",
       "      <td>4</td>\n",
       "      <td>3</td>\n",
       "    </tr>\n",
       "    <tr>\n",
       "      <th>2</th>\n",
       "      <td>3</td>\n",
       "      <td>0</td>\n",
       "      <td>4</td>\n",
       "      <td>3</td>\n",
       "      <td>4</td>\n",
       "      <td>0</td>\n",
       "      <td>0</td>\n",
       "      <td>5</td>\n",
       "    </tr>\n",
       "    <tr>\n",
       "      <th>3</th>\n",
       "      <td>0</td>\n",
       "      <td>7</td>\n",
       "      <td>0</td>\n",
       "      <td>3</td>\n",
       "      <td>2</td>\n",
       "      <td>0</td>\n",
       "      <td>4</td>\n",
       "      <td>3</td>\n",
       "    </tr>\n",
       "    <tr>\n",
       "      <th>4</th>\n",
       "      <td>0</td>\n",
       "      <td>1</td>\n",
       "      <td>0</td>\n",
       "      <td>0</td>\n",
       "      <td>0</td>\n",
       "      <td>5</td>\n",
       "      <td>4</td>\n",
       "      <td>2</td>\n",
       "    </tr>\n",
       "    <tr>\n",
       "      <th>5</th>\n",
       "      <td>2</td>\n",
       "      <td>0</td>\n",
       "      <td>2</td>\n",
       "      <td>0</td>\n",
       "      <td>0</td>\n",
       "      <td>4</td>\n",
       "      <td>0</td>\n",
       "      <td>1</td>\n",
       "    </tr>\n",
       "    <tr>\n",
       "      <th>6</th>\n",
       "      <td>3</td>\n",
       "      <td>5</td>\n",
       "      <td>3</td>\n",
       "      <td>4</td>\n",
       "      <td>0</td>\n",
       "      <td>0</td>\n",
       "      <td>4</td>\n",
       "      <td>2</td>\n",
       "    </tr>\n",
       "    <tr>\n",
       "      <th>7</th>\n",
       "      <td>0</td>\n",
       "      <td>3</td>\n",
       "      <td>0</td>\n",
       "      <td>0</td>\n",
       "      <td>0</td>\n",
       "      <td>4</td>\n",
       "      <td>4</td>\n",
       "      <td>2</td>\n",
       "    </tr>\n",
       "    <tr>\n",
       "      <th>8</th>\n",
       "      <td>0</td>\n",
       "      <td>0</td>\n",
       "      <td>3</td>\n",
       "      <td>3</td>\n",
       "      <td>3</td>\n",
       "      <td>0</td>\n",
       "      <td>0</td>\n",
       "      <td>1</td>\n",
       "    </tr>\n",
       "    <tr>\n",
       "      <th>9</th>\n",
       "      <td>0</td>\n",
       "      <td>5</td>\n",
       "      <td>0</td>\n",
       "      <td>0</td>\n",
       "      <td>0</td>\n",
       "      <td>4</td>\n",
       "      <td>4</td>\n",
       "      <td>2</td>\n",
       "    </tr>\n",
       "  </tbody>\n",
       "</table>\n",
       "</div>"
      ],
      "text/plain": [
       "   A  B  C  D  E  F  G  H\n",
       "0  0  3  4  0  0  2  4  0\n",
       "1  5  5  0  0  4  0  4  3\n",
       "2  3  0  4  3  4  0  0  5\n",
       "3  0  7  0  3  2  0  4  3\n",
       "4  0  1  0  0  0  5  4  2\n",
       "5  2  0  2  0  0  4  0  1\n",
       "6  3  5  3  4  0  0  4  2\n",
       "7  0  3  0  0  0  4  4  2\n",
       "8  0  0  3  3  3  0  0  1\n",
       "9  0  5  0  0  0  4  4  2"
      ]
     },
     "execution_count": 3,
     "metadata": {},
     "output_type": "execute_result"
    }
   ],
   "source": [
    "doc_term"
   ]
  },
  {
   "cell_type": "code",
   "execution_count": 4,
   "metadata": {},
   "outputs": [],
   "source": [
    "# Convert DataFrame to Numpy Array\n",
    "\n",
    "DT = np.array(doc_term) # Document by Term matrix\n",
    "TD = DT.T # Term by Document matrix"
   ]
  },
  {
   "cell_type": "code",
   "execution_count": 5,
   "metadata": {},
   "outputs": [],
   "source": [
    "# Association Matrix (Term by Term)\n",
    "\n",
    "TT = np.dot(TD, TD.T) "
   ]
  },
  {
   "cell_type": "code",
   "execution_count": 6,
   "metadata": {},
   "outputs": [
    {
     "data": {
      "text/plain": [
       "array([[ 47,  40,  25,  21,  32,   8,  32,  38],\n",
       "       [ 40, 143,  27,  41,  34,  43, 116,  64],\n",
       "       [ 25,  27,  54,  33,  25,  16,  28,  31],\n",
       "       [ 21,  41,  33,  43,  27,   0,  28,  35],\n",
       "       [ 32,  34,  25,  27,  45,   0,  24,  41],\n",
       "       [  8,  43,  16,   0,   0,  77,  60,  30],\n",
       "       [ 32, 116,  28,  28,  24,  60, 112,  56],\n",
       "       [ 38,  64,  31,  35,  41,  30,  56,  61]], dtype=int64)"
      ]
     },
     "execution_count": 6,
     "metadata": {},
     "output_type": "execute_result"
    }
   ],
   "source": [
    "TT"
   ]
  },
  {
   "cell_type": "code",
   "execution_count": 7,
   "metadata": {},
   "outputs": [],
   "source": [
    "# Normalizing the matrix\n",
    "\n",
    "norm_tt = np.zeros(TT.shape)\n",
    "for i in range(TT.shape[0]):\n",
    "    row = TT[i]\n",
    "    for j in range(row.shape[0]):\n",
    "        norm_tt[i][j] = TT[i][j] / (TT[i][i] + TT[j][j] - TT[i][j])"
   ]
  },
  {
   "cell_type": "code",
   "execution_count": 8,
   "metadata": {},
   "outputs": [
    {
     "data": {
      "text/plain": [
       "array([[1.        , 0.26666667, 0.32894737, 0.30434783, 0.53333333,\n",
       "        0.06896552, 0.2519685 , 0.54285714],\n",
       "       [0.26666667, 1.        , 0.15882353, 0.28275862, 0.22077922,\n",
       "        0.24293785, 0.83453237, 0.45714286],\n",
       "       [0.32894737, 0.15882353, 1.        , 0.515625  , 0.33783784,\n",
       "        0.13913043, 0.20289855, 0.36904762],\n",
       "       [0.30434783, 0.28275862, 0.515625  , 1.        , 0.44262295,\n",
       "        0.        , 0.22047244, 0.50724638],\n",
       "       [0.53333333, 0.22077922, 0.33783784, 0.44262295, 1.        ,\n",
       "        0.        , 0.18045113, 0.63076923],\n",
       "       [0.06896552, 0.24293785, 0.13913043, 0.        , 0.        ,\n",
       "        1.        , 0.46511628, 0.27777778],\n",
       "       [0.2519685 , 0.83453237, 0.20289855, 0.22047244, 0.18045113,\n",
       "        0.46511628, 1.        , 0.47863248],\n",
       "       [0.54285714, 0.45714286, 0.36904762, 0.50724638, 0.63076923,\n",
       "        0.27777778, 0.47863248, 1.        ]])"
      ]
     },
     "execution_count": 8,
     "metadata": {},
     "output_type": "execute_result"
    }
   ],
   "source": [
    "norm_tt"
   ]
  },
  {
   "cell_type": "code",
   "execution_count": 9,
   "metadata": {},
   "outputs": [
    {
     "data": {
      "text/html": [
       "<div>\n",
       "<style scoped>\n",
       "    .dataframe tbody tr th:only-of-type {\n",
       "        vertical-align: middle;\n",
       "    }\n",
       "\n",
       "    .dataframe tbody tr th {\n",
       "        vertical-align: top;\n",
       "    }\n",
       "\n",
       "    .dataframe thead th {\n",
       "        text-align: right;\n",
       "    }\n",
       "</style>\n",
       "<table border=\"1\" class=\"dataframe\">\n",
       "  <thead>\n",
       "    <tr style=\"text-align: right;\">\n",
       "      <th></th>\n",
       "      <th>A</th>\n",
       "      <th>B</th>\n",
       "      <th>C</th>\n",
       "      <th>D</th>\n",
       "      <th>E</th>\n",
       "      <th>F</th>\n",
       "      <th>G</th>\n",
       "      <th>H</th>\n",
       "    </tr>\n",
       "  </thead>\n",
       "  <tbody>\n",
       "    <tr>\n",
       "      <th>A</th>\n",
       "      <td>1.000000</td>\n",
       "      <td>0.266667</td>\n",
       "      <td>0.328947</td>\n",
       "      <td>0.304348</td>\n",
       "      <td>0.533333</td>\n",
       "      <td>0.068966</td>\n",
       "      <td>0.251969</td>\n",
       "      <td>0.542857</td>\n",
       "    </tr>\n",
       "    <tr>\n",
       "      <th>B</th>\n",
       "      <td>0.266667</td>\n",
       "      <td>1.000000</td>\n",
       "      <td>0.158824</td>\n",
       "      <td>0.282759</td>\n",
       "      <td>0.220779</td>\n",
       "      <td>0.242938</td>\n",
       "      <td>0.834532</td>\n",
       "      <td>0.457143</td>\n",
       "    </tr>\n",
       "    <tr>\n",
       "      <th>C</th>\n",
       "      <td>0.328947</td>\n",
       "      <td>0.158824</td>\n",
       "      <td>1.000000</td>\n",
       "      <td>0.515625</td>\n",
       "      <td>0.337838</td>\n",
       "      <td>0.139130</td>\n",
       "      <td>0.202899</td>\n",
       "      <td>0.369048</td>\n",
       "    </tr>\n",
       "    <tr>\n",
       "      <th>D</th>\n",
       "      <td>0.304348</td>\n",
       "      <td>0.282759</td>\n",
       "      <td>0.515625</td>\n",
       "      <td>1.000000</td>\n",
       "      <td>0.442623</td>\n",
       "      <td>0.000000</td>\n",
       "      <td>0.220472</td>\n",
       "      <td>0.507246</td>\n",
       "    </tr>\n",
       "    <tr>\n",
       "      <th>E</th>\n",
       "      <td>0.533333</td>\n",
       "      <td>0.220779</td>\n",
       "      <td>0.337838</td>\n",
       "      <td>0.442623</td>\n",
       "      <td>1.000000</td>\n",
       "      <td>0.000000</td>\n",
       "      <td>0.180451</td>\n",
       "      <td>0.630769</td>\n",
       "    </tr>\n",
       "    <tr>\n",
       "      <th>F</th>\n",
       "      <td>0.068966</td>\n",
       "      <td>0.242938</td>\n",
       "      <td>0.139130</td>\n",
       "      <td>0.000000</td>\n",
       "      <td>0.000000</td>\n",
       "      <td>1.000000</td>\n",
       "      <td>0.465116</td>\n",
       "      <td>0.277778</td>\n",
       "    </tr>\n",
       "    <tr>\n",
       "      <th>G</th>\n",
       "      <td>0.251969</td>\n",
       "      <td>0.834532</td>\n",
       "      <td>0.202899</td>\n",
       "      <td>0.220472</td>\n",
       "      <td>0.180451</td>\n",
       "      <td>0.465116</td>\n",
       "      <td>1.000000</td>\n",
       "      <td>0.478632</td>\n",
       "    </tr>\n",
       "    <tr>\n",
       "      <th>H</th>\n",
       "      <td>0.542857</td>\n",
       "      <td>0.457143</td>\n",
       "      <td>0.369048</td>\n",
       "      <td>0.507246</td>\n",
       "      <td>0.630769</td>\n",
       "      <td>0.277778</td>\n",
       "      <td>0.478632</td>\n",
       "      <td>1.000000</td>\n",
       "    </tr>\n",
       "  </tbody>\n",
       "</table>\n",
       "</div>"
      ],
      "text/plain": [
       "          A         B         C         D         E         F         G  \\\n",
       "A  1.000000  0.266667  0.328947  0.304348  0.533333  0.068966  0.251969   \n",
       "B  0.266667  1.000000  0.158824  0.282759  0.220779  0.242938  0.834532   \n",
       "C  0.328947  0.158824  1.000000  0.515625  0.337838  0.139130  0.202899   \n",
       "D  0.304348  0.282759  0.515625  1.000000  0.442623  0.000000  0.220472   \n",
       "E  0.533333  0.220779  0.337838  0.442623  1.000000  0.000000  0.180451   \n",
       "F  0.068966  0.242938  0.139130  0.000000  0.000000  1.000000  0.465116   \n",
       "G  0.251969  0.834532  0.202899  0.220472  0.180451  0.465116  1.000000   \n",
       "H  0.542857  0.457143  0.369048  0.507246  0.630769  0.277778  0.478632   \n",
       "\n",
       "          H  \n",
       "A  0.542857  \n",
       "B  0.457143  \n",
       "C  0.369048  \n",
       "D  0.507246  \n",
       "E  0.630769  \n",
       "F  0.277778  \n",
       "G  0.478632  \n",
       "H  1.000000  "
      ]
     },
     "execution_count": 9,
     "metadata": {},
     "output_type": "execute_result"
    }
   ],
   "source": [
    "# Convert numpy array to DataFrame to clearly show the result \n",
    "\n",
    "term_term = pd.DataFrame(norm_tt, \n",
    "                         columns = ['A', 'B', 'C', 'D', 'E', 'F', 'G', 'H'], \n",
    "                         index = ['A', 'B', 'C', 'D', 'E', 'F', 'G', 'H']\n",
    "                        )\n",
    "term_term"
   ]
  },
  {
   "cell_type": "markdown",
   "metadata": {},
   "source": [
    "## <span style = 'color: blue'>1.b. Write a program that outputs an expanded query </span>"
   ]
  },
  {
   "cell_type": "code",
   "execution_count": 10,
   "metadata": {},
   "outputs": [],
   "source": [
    "# Function get term by term matrix and query and output an expanded query using global analysis\n",
    "\n",
    "def expand_query(tt_matrix, query, N):\n",
    "    expanded_query = []\n",
    "    for term in query:\n",
    "        sim_terms = tt_matrix.sort_values(term)[term]\n",
    "        expanded_query.append(term)\n",
    "        # first get (N+1) similar terms to the target term. Since the most similar term is\n",
    "        # the term itself with the value of 1, so we will get the first N indexes from the result\n",
    "        selected_terms = sim_terms[-(N+1):][:N].index\n",
    "        for index in selected_terms:\n",
    "            if index not in expanded_query:\n",
    "                expanded_query.append(index)\n",
    "    \n",
    "    return expanded_query\n",
    "        "
   ]
  },
  {
   "cell_type": "code",
   "execution_count": 11,
   "metadata": {},
   "outputs": [
    {
     "data": {
      "text/plain": [
       "['A', 'H', 'C', 'D', 'F', 'G']"
      ]
     },
     "execution_count": 11,
     "metadata": {},
     "output_type": "execute_result"
    }
   ],
   "source": [
    "Query = ['A', 'C', 'F']\n",
    "N = 1\n",
    "\n",
    "expand_query(term_term, Query, N)"
   ]
  },
  {
   "cell_type": "code",
   "execution_count": 12,
   "metadata": {},
   "outputs": [
    {
     "data": {
      "text/plain": [
       "['A', 'E', 'H', 'C', 'D', 'F', 'G']"
      ]
     },
     "execution_count": 12,
     "metadata": {},
     "output_type": "execute_result"
    }
   ],
   "source": [
    "Query = ['A', 'C', 'F']\n",
    "N = 2\n",
    "\n",
    "expand_query(term_term, ['A', 'C', 'F'], 2)"
   ]
  },
  {
   "cell_type": "markdown",
   "metadata": {},
   "source": [
    "# <span style = 'color: green'>Part 4. Document Categorization</span>"
   ]
  },
  {
   "cell_type": "markdown",
   "metadata": {},
   "source": [
    "### Loading Data"
   ]
  },
  {
   "cell_type": "code",
   "execution_count": 13,
   "metadata": {},
   "outputs": [
    {
     "data": {
      "text/html": [
       "<div>\n",
       "<style scoped>\n",
       "    .dataframe tbody tr th:only-of-type {\n",
       "        vertical-align: middle;\n",
       "    }\n",
       "\n",
       "    .dataframe tbody tr th {\n",
       "        vertical-align: top;\n",
       "    }\n",
       "\n",
       "    .dataframe thead th {\n",
       "        text-align: right;\n",
       "    }\n",
       "</style>\n",
       "<table border=\"1\" class=\"dataframe\">\n",
       "  <thead>\n",
       "    <tr style=\"text-align: right;\">\n",
       "      <th></th>\n",
       "      <th>T1</th>\n",
       "      <th>T2</th>\n",
       "      <th>T3</th>\n",
       "      <th>T4</th>\n",
       "      <th>T5</th>\n",
       "      <th>T6</th>\n",
       "      <th>T7</th>\n",
       "      <th>T8</th>\n",
       "      <th>Category</th>\n",
       "    </tr>\n",
       "  </thead>\n",
       "  <tbody>\n",
       "    <tr>\n",
       "      <th>DOC1</th>\n",
       "      <td>2</td>\n",
       "      <td>0</td>\n",
       "      <td>4</td>\n",
       "      <td>3</td>\n",
       "      <td>0</td>\n",
       "      <td>1</td>\n",
       "      <td>0</td>\n",
       "      <td>2</td>\n",
       "      <td>Cat1</td>\n",
       "    </tr>\n",
       "    <tr>\n",
       "      <th>DOC2</th>\n",
       "      <td>0</td>\n",
       "      <td>2</td>\n",
       "      <td>4</td>\n",
       "      <td>0</td>\n",
       "      <td>2</td>\n",
       "      <td>3</td>\n",
       "      <td>0</td>\n",
       "      <td>0</td>\n",
       "      <td>Cat1</td>\n",
       "    </tr>\n",
       "    <tr>\n",
       "      <th>DOC3</th>\n",
       "      <td>4</td>\n",
       "      <td>0</td>\n",
       "      <td>1</td>\n",
       "      <td>3</td>\n",
       "      <td>0</td>\n",
       "      <td>1</td>\n",
       "      <td>0</td>\n",
       "      <td>1</td>\n",
       "      <td>Cat2</td>\n",
       "    </tr>\n",
       "    <tr>\n",
       "      <th>DOC4</th>\n",
       "      <td>0</td>\n",
       "      <td>1</td>\n",
       "      <td>0</td>\n",
       "      <td>2</td>\n",
       "      <td>0</td>\n",
       "      <td>0</td>\n",
       "      <td>1</td>\n",
       "      <td>0</td>\n",
       "      <td>Cat2</td>\n",
       "    </tr>\n",
       "    <tr>\n",
       "      <th>DOC5</th>\n",
       "      <td>0</td>\n",
       "      <td>0</td>\n",
       "      <td>2</td>\n",
       "      <td>0</td>\n",
       "      <td>0</td>\n",
       "      <td>4</td>\n",
       "      <td>0</td>\n",
       "      <td>0</td>\n",
       "      <td>Cat1</td>\n",
       "    </tr>\n",
       "    <tr>\n",
       "      <th>DOC6</th>\n",
       "      <td>1</td>\n",
       "      <td>1</td>\n",
       "      <td>0</td>\n",
       "      <td>2</td>\n",
       "      <td>0</td>\n",
       "      <td>1</td>\n",
       "      <td>1</td>\n",
       "      <td>3</td>\n",
       "      <td>Cat2</td>\n",
       "    </tr>\n",
       "    <tr>\n",
       "      <th>DOC7</th>\n",
       "      <td>2</td>\n",
       "      <td>1</td>\n",
       "      <td>3</td>\n",
       "      <td>4</td>\n",
       "      <td>0</td>\n",
       "      <td>2</td>\n",
       "      <td>0</td>\n",
       "      <td>2</td>\n",
       "      <td>Cat2</td>\n",
       "    </tr>\n",
       "    <tr>\n",
       "      <th>DOC8</th>\n",
       "      <td>3</td>\n",
       "      <td>1</td>\n",
       "      <td>0</td>\n",
       "      <td>4</td>\n",
       "      <td>1</td>\n",
       "      <td>0</td>\n",
       "      <td>2</td>\n",
       "      <td>1</td>\n",
       "      <td>?</td>\n",
       "    </tr>\n",
       "    <tr>\n",
       "      <th>DOC9</th>\n",
       "      <td>0</td>\n",
       "      <td>0</td>\n",
       "      <td>3</td>\n",
       "      <td>0</td>\n",
       "      <td>1</td>\n",
       "      <td>5</td>\n",
       "      <td>0</td>\n",
       "      <td>1</td>\n",
       "      <td>?</td>\n",
       "    </tr>\n",
       "  </tbody>\n",
       "</table>\n",
       "</div>"
      ],
      "text/plain": [
       "      T1  T2  T3  T4  T5  T6  T7  T8 Category\n",
       "DOC1   2   0   4   3   0   1   0   2     Cat1\n",
       "DOC2   0   2   4   0   2   3   0   0     Cat1\n",
       "DOC3   4   0   1   3   0   1   0   1     Cat2\n",
       "DOC4   0   1   0   2   0   0   1   0     Cat2\n",
       "DOC5   0   0   2   0   0   4   0   0     Cat1\n",
       "DOC6   1   1   0   2   0   1   1   3     Cat2\n",
       "DOC7   2   1   3   4   0   2   0   2     Cat2\n",
       "DOC8   3   1   0   4   1   0   2   1        ?\n",
       "DOC9   0   0   3   0   1   5   0   1        ?"
      ]
     },
     "execution_count": 13,
     "metadata": {},
     "output_type": "execute_result"
    }
   ],
   "source": [
    "df = pd.read_csv('HW4.csv', index_col = 0)\n",
    "df"
   ]
  },
  {
   "cell_type": "code",
   "execution_count": 14,
   "metadata": {},
   "outputs": [
    {
     "data": {
      "text/plain": [
       "array([[2, 0, 4, 3, 0, 1, 0, 2],\n",
       "       [0, 2, 4, 0, 2, 3, 0, 0],\n",
       "       [4, 0, 1, 3, 0, 1, 0, 1],\n",
       "       [0, 1, 0, 2, 0, 0, 1, 0],\n",
       "       [0, 0, 2, 0, 0, 4, 0, 0],\n",
       "       [1, 1, 0, 2, 0, 1, 1, 3],\n",
       "       [2, 1, 3, 4, 0, 2, 0, 2]], dtype=int64)"
      ]
     },
     "execution_count": 14,
     "metadata": {},
     "output_type": "execute_result"
    }
   ],
   "source": [
    "matrix = np.array(df.iloc[:7, :8])\n",
    "matrix"
   ]
  },
  {
   "cell_type": "code",
   "execution_count": 15,
   "metadata": {},
   "outputs": [
    {
     "data": {
      "text/plain": [
       "array(['Cat1', 'Cat1', 'Cat2', 'Cat2', 'Cat1', 'Cat2', 'Cat2'],\n",
       "      dtype=object)"
      ]
     },
     "execution_count": 15,
     "metadata": {},
     "output_type": "execute_result"
    }
   ],
   "source": [
    "labels = np.array(df.iloc[:7, 8])\n",
    "labels"
   ]
  },
  {
   "cell_type": "code",
   "execution_count": 16,
   "metadata": {
    "scrolled": true
   },
   "outputs": [],
   "source": [
    "DOC8 = np.array(df.iloc[7, :8])\n",
    "DOC9 = np.array(df.iloc[8, :8])\n",
    "DOC8 = DOC8.reshape(1, -1)\n",
    "DOC9 = DOC9.reshape(1, -1)"
   ]
  },
  {
   "cell_type": "markdown",
   "metadata": {},
   "source": [
    "## <span style = 'color: blue'>4.a. Using the K-Nearest-Neighbor approach</span>"
   ]
  },
  {
   "cell_type": "code",
   "execution_count": 17,
   "metadata": {},
   "outputs": [],
   "source": [
    "import sklearn.metrics.pairwise as metrics"
   ]
  },
  {
   "cell_type": "code",
   "execution_count": 18,
   "metadata": {},
   "outputs": [],
   "source": [
    "# Return k top most similar docs to the target doc\n",
    "\n",
    "def knn(matrix, doc, k = 3):\n",
    "    sims = []\n",
    "    for d in matrix:\n",
    "        sim = metrics.cosine_similarity(doc, d.reshape(1, -1))[0][0]\n",
    "        sims.append(sim)\n",
    "    return np.argsort(sims)[-k:]"
   ]
  },
  {
   "cell_type": "code",
   "execution_count": 19,
   "metadata": {},
   "outputs": [],
   "source": [
    "# Return category of target doc based on predefined categorization (labels) and top most similar docs to the target doc\n",
    "\n",
    "def categorize(labels, doc, sims):\n",
    "    cat1 = 0\n",
    "    cat2 = 0\n",
    "    result = ''\n",
    "    for index in sims:\n",
    "        if labels[index] == 'Cat1':\n",
    "            cat1 += 1\n",
    "        else:\n",
    "            cat2 += 1\n",
    "    if cat1 > cat2:\n",
    "        result = 'Cat1'\n",
    "    else:\n",
    "        result = 'Cat2'\n",
    "    return result"
   ]
  },
  {
   "cell_type": "code",
   "execution_count": 20,
   "metadata": {},
   "outputs": [
    {
     "name": "stdout",
     "output_type": "stream",
     "text": [
      "Predicted category for DOC8: Cat2\n"
     ]
    }
   ],
   "source": [
    "sims = knn(matrix, DOC8)\n",
    "result = categorize(labels, DOC8, sims)\n",
    "print('Predicted category for DOC8:', result)"
   ]
  },
  {
   "cell_type": "code",
   "execution_count": 21,
   "metadata": {},
   "outputs": [
    {
     "name": "stdout",
     "output_type": "stream",
     "text": [
      "Predicted category for DOC9: Cat1\n"
     ]
    }
   ],
   "source": [
    "sims = knn(matrix, DOC9)\n",
    "result = categorize(labels, DOC9, sims)\n",
    "print('Predicted category for DOC9:', result)"
   ]
  },
  {
   "cell_type": "markdown",
   "metadata": {},
   "source": [
    "## <span style = 'color: blue'>4.b. Using the Rocchio-Based approach</span>"
   ]
  },
  {
   "cell_type": "code",
   "execution_count": 22,
   "metadata": {},
   "outputs": [],
   "source": [
    "# Return prototype vector for each category\n",
    "\n",
    "def train(matrix, labels):\n",
    "    labels_df = pd.DataFrame(labels, columns = ['cat'])\n",
    "    categories = labels_df.groupby(['cat']).count().index\n",
    "    result = {}\n",
    "    \n",
    "    for category in categories:\n",
    "        prototype_vec = np.zeros(matrix.shape[1])\n",
    "        indexes = np.where(labels == category)\n",
    "        for vec in matrix[indexes]:\n",
    "            prototype_vec = np.add(prototype_vec, vec)\n",
    "        \n",
    "        result[category] = prototype_vec\n",
    "    \n",
    "    return result"
   ]
  },
  {
   "cell_type": "code",
   "execution_count": 23,
   "metadata": {},
   "outputs": [],
   "source": [
    "# classify each new doc based on precomputed prototype vectors\n",
    "# Return the predicted category for the target doc\n",
    "\n",
    "def classify(prototype_vectors, doc):\n",
    "    predicted_category = ''\n",
    "    max_sims = 0\n",
    "    \n",
    "    for key in prototype_vectors:        \n",
    "        pro_vec = prototype_vectors.get(key)\n",
    "        sim = metrics.cosine_similarity(doc, pro_vec.reshape(1, -1))[0][0]\n",
    "        if sim > max_sims:\n",
    "            max_sims = sim\n",
    "            predicted_category = key\n",
    "    \n",
    "    return predicted_category, max_sims\n",
    "        "
   ]
  },
  {
   "cell_type": "code",
   "execution_count": 24,
   "metadata": {},
   "outputs": [
    {
     "data": {
      "text/plain": [
       "{'Cat1': array([ 2.,  2., 10.,  3.,  2.,  8.,  0.,  2.]),\n",
       " 'Cat2': array([ 7.,  3.,  4., 11.,  0.,  4.,  2.,  6.])}"
      ]
     },
     "execution_count": 24,
     "metadata": {},
     "output_type": "execute_result"
    }
   ],
   "source": [
    "# Get the prototype vactor for each category as a dictionary\n",
    "\n",
    "prototype_vectors = train(matrix, labels)\n",
    "prototype_vectors"
   ]
  },
  {
   "cell_type": "code",
   "execution_count": 25,
   "metadata": {},
   "outputs": [
    {
     "name": "stdout",
     "output_type": "stream",
     "text": [
      "Predicted category: Cat2 ; Similarity: 0.8703275932210309\n"
     ]
    }
   ],
   "source": [
    "category, similarity = classify(prototype_vectors, DOC8)\n",
    "\n",
    "print('Predicted category: {} ; Similarity: {}'.format(category, similarity))"
   ]
  },
  {
   "cell_type": "code",
   "execution_count": 26,
   "metadata": {},
   "outputs": [
    {
     "name": "stdout",
     "output_type": "stream",
     "text": [
      "Predicted category: Cat1 ; Similarity: 0.8971179931924131\n"
     ]
    }
   ],
   "source": [
    "category, similarity = classify(prototype_vectors, DOC9)\n",
    "\n",
    "print('Predicted category: {} ; Similarity: {}'.format(category, similarity))"
   ]
  }
 ],
 "metadata": {
  "kernelspec": {
   "display_name": "Python 3",
   "language": "python",
   "name": "python3"
  },
  "language_info": {
   "codemirror_mode": {
    "name": "ipython",
    "version": 3
   },
   "file_extension": ".py",
   "mimetype": "text/x-python",
   "name": "python",
   "nbconvert_exporter": "python",
   "pygments_lexer": "ipython3",
   "version": "3.7.9"
  }
 },
 "nbformat": 4,
 "nbformat_minor": 4
}
