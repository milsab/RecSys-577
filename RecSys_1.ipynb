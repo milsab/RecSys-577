{
 "cells": [
  {
   "cell_type": "code",
   "execution_count": 1,
   "metadata": {},
   "outputs": [],
   "source": [
    "import numpy as np\n",
    "import pandas as pd\n",
    "import matplotlib.pylab as plt\n",
    "\n",
    "%matplotlib inline"
   ]
  },
  {
   "cell_type": "code",
   "execution_count": 2,
   "metadata": {},
   "outputs": [],
   "source": [
    "# Import Data\n",
    "\n",
    "df = pd.read_json('http://facweb.cs.depaul.edu/mobasher/classes/csc577/data/fantasy_10000.json', lines=True)"
   ]
  },
  {
   "cell_type": "markdown",
   "metadata": {},
   "source": [
    "# <span style = 'color: green'>Part 1. Basic Data Processing, Analysis, and Visualization</span>"
   ]
  },
  {
   "cell_type": "code",
   "execution_count": 3,
   "metadata": {},
   "outputs": [
    {
     "data": {
      "text/plain": [
       "(10000, 11)"
      ]
     },
     "execution_count": 3,
     "metadata": {},
     "output_type": "execute_result"
    }
   ],
   "source": [
    "df.shape"
   ]
  },
  {
   "cell_type": "markdown",
   "metadata": {},
   "source": [
    "## <span style = 'color: blue'>1.a.</span>"
   ]
  },
  {
   "cell_type": "code",
   "execution_count": 4,
   "metadata": {},
   "outputs": [],
   "source": [
    "# Add a new variable \"rev_length\" to the data frame \n",
    "\n",
    "data = df\n",
    "data['rev_length'] = data['review_text'].str.len()"
   ]
  },
  {
   "cell_type": "code",
   "execution_count": 5,
   "metadata": {},
   "outputs": [],
   "source": [
    "# Remove the \"review_text\" variable as well as variables containing dates \n",
    "\n",
    "data.drop(['review_text', 'date_added', 'date_updated', 'read_at', 'started_at'], axis=1, inplace = True)"
   ]
  },
  {
   "cell_type": "code",
   "execution_count": 6,
   "metadata": {},
   "outputs": [
    {
     "data": {
      "text/html": [
       "<div>\n",
       "<style scoped>\n",
       "    .dataframe tbody tr th:only-of-type {\n",
       "        vertical-align: middle;\n",
       "    }\n",
       "\n",
       "    .dataframe tbody tr th {\n",
       "        vertical-align: top;\n",
       "    }\n",
       "\n",
       "    .dataframe thead th {\n",
       "        text-align: right;\n",
       "    }\n",
       "</style>\n",
       "<table border=\"1\" class=\"dataframe\">\n",
       "  <thead>\n",
       "    <tr style=\"text-align: right;\">\n",
       "      <th></th>\n",
       "      <th>user_id</th>\n",
       "      <th>book_id</th>\n",
       "      <th>review_id</th>\n",
       "      <th>rating</th>\n",
       "      <th>n_votes</th>\n",
       "      <th>n_comments</th>\n",
       "      <th>rev_length</th>\n",
       "    </tr>\n",
       "  </thead>\n",
       "  <tbody>\n",
       "    <tr>\n",
       "      <th>0</th>\n",
       "      <td>8842281e1d1347389f2ab93d60773d4d</td>\n",
       "      <td>18245960</td>\n",
       "      <td>dfdbb7b0eb5a7e4c26d59a937e2e5feb</td>\n",
       "      <td>5</td>\n",
       "      <td>28</td>\n",
       "      <td>1</td>\n",
       "      <td>2086</td>\n",
       "    </tr>\n",
       "    <tr>\n",
       "      <th>1</th>\n",
       "      <td>8842281e1d1347389f2ab93d60773d4d</td>\n",
       "      <td>5577844</td>\n",
       "      <td>52c8ac49496c153e4a97161e36b2db55</td>\n",
       "      <td>5</td>\n",
       "      <td>5</td>\n",
       "      <td>1</td>\n",
       "      <td>1521</td>\n",
       "    </tr>\n",
       "    <tr>\n",
       "      <th>2</th>\n",
       "      <td>8842281e1d1347389f2ab93d60773d4d</td>\n",
       "      <td>17315048</td>\n",
       "      <td>885c772fb033b041f42d57cef5be0a43</td>\n",
       "      <td>5</td>\n",
       "      <td>25</td>\n",
       "      <td>5</td>\n",
       "      <td>1519</td>\n",
       "    </tr>\n",
       "    <tr>\n",
       "      <th>3</th>\n",
       "      <td>8842281e1d1347389f2ab93d60773d4d</td>\n",
       "      <td>13453029</td>\n",
       "      <td>46a6e1a14e8afc82d221fec0a2bd3dd0</td>\n",
       "      <td>4</td>\n",
       "      <td>5</td>\n",
       "      <td>1</td>\n",
       "      <td>1791</td>\n",
       "    </tr>\n",
       "    <tr>\n",
       "      <th>4</th>\n",
       "      <td>8842281e1d1347389f2ab93d60773d4d</td>\n",
       "      <td>13239822</td>\n",
       "      <td>a582bfa8efd69d453a5a21a678046b36</td>\n",
       "      <td>3</td>\n",
       "      <td>7</td>\n",
       "      <td>0</td>\n",
       "      <td>1762</td>\n",
       "    </tr>\n",
       "    <tr>\n",
       "      <th>5</th>\n",
       "      <td>8842281e1d1347389f2ab93d60773d4d</td>\n",
       "      <td>62291</td>\n",
       "      <td>e23965adda7ce7e7e415a1339e169065</td>\n",
       "      <td>5</td>\n",
       "      <td>5</td>\n",
       "      <td>1</td>\n",
       "      <td>470</td>\n",
       "    </tr>\n",
       "    <tr>\n",
       "      <th>6</th>\n",
       "      <td>8842281e1d1347389f2ab93d60773d4d</td>\n",
       "      <td>41804</td>\n",
       "      <td>2bcbe2300fe1801197f9bfe1f1c883ba</td>\n",
       "      <td>5</td>\n",
       "      <td>12</td>\n",
       "      <td>2</td>\n",
       "      <td>823</td>\n",
       "    </tr>\n",
       "    <tr>\n",
       "      <th>7</th>\n",
       "      <td>8842281e1d1347389f2ab93d60773d4d</td>\n",
       "      <td>136251</td>\n",
       "      <td>132eab4c9a3724493204cc083e0e2ecc</td>\n",
       "      <td>5</td>\n",
       "      <td>6</td>\n",
       "      <td>3</td>\n",
       "      <td>532</td>\n",
       "    </tr>\n",
       "    <tr>\n",
       "      <th>8</th>\n",
       "      <td>8842281e1d1347389f2ab93d60773d4d</td>\n",
       "      <td>142296</td>\n",
       "      <td>400f536181a8ccf3a0f6b37d3fec14eb</td>\n",
       "      <td>4</td>\n",
       "      <td>6</td>\n",
       "      <td>2</td>\n",
       "      <td>616</td>\n",
       "    </tr>\n",
       "    <tr>\n",
       "      <th>9</th>\n",
       "      <td>8842281e1d1347389f2ab93d60773d4d</td>\n",
       "      <td>76620</td>\n",
       "      <td>9206654986a733bd753753aa0c882813</td>\n",
       "      <td>5</td>\n",
       "      <td>30</td>\n",
       "      <td>2</td>\n",
       "      <td>548</td>\n",
       "    </tr>\n",
       "  </tbody>\n",
       "</table>\n",
       "</div>"
      ],
      "text/plain": [
       "                            user_id   book_id  \\\n",
       "0  8842281e1d1347389f2ab93d60773d4d  18245960   \n",
       "1  8842281e1d1347389f2ab93d60773d4d   5577844   \n",
       "2  8842281e1d1347389f2ab93d60773d4d  17315048   \n",
       "3  8842281e1d1347389f2ab93d60773d4d  13453029   \n",
       "4  8842281e1d1347389f2ab93d60773d4d  13239822   \n",
       "5  8842281e1d1347389f2ab93d60773d4d     62291   \n",
       "6  8842281e1d1347389f2ab93d60773d4d     41804   \n",
       "7  8842281e1d1347389f2ab93d60773d4d    136251   \n",
       "8  8842281e1d1347389f2ab93d60773d4d    142296   \n",
       "9  8842281e1d1347389f2ab93d60773d4d     76620   \n",
       "\n",
       "                          review_id  rating  n_votes  n_comments  rev_length  \n",
       "0  dfdbb7b0eb5a7e4c26d59a937e2e5feb       5       28           1        2086  \n",
       "1  52c8ac49496c153e4a97161e36b2db55       5        5           1        1521  \n",
       "2  885c772fb033b041f42d57cef5be0a43       5       25           5        1519  \n",
       "3  46a6e1a14e8afc82d221fec0a2bd3dd0       4        5           1        1791  \n",
       "4  a582bfa8efd69d453a5a21a678046b36       3        7           0        1762  \n",
       "5  e23965adda7ce7e7e415a1339e169065       5        5           1         470  \n",
       "6  2bcbe2300fe1801197f9bfe1f1c883ba       5       12           2         823  \n",
       "7  132eab4c9a3724493204cc083e0e2ecc       5        6           3         532  \n",
       "8  400f536181a8ccf3a0f6b37d3fec14eb       4        6           2         616  \n",
       "9  9206654986a733bd753753aa0c882813       5       30           2         548  "
      ]
     },
     "execution_count": 6,
     "metadata": {},
     "output_type": "execute_result"
    }
   ],
   "source": [
    "# Display the top 10 entries in the data \n",
    "\n",
    "data.head(10)"
   ]
  },
  {
   "cell_type": "markdown",
   "metadata": {},
   "source": [
    "## <span style = 'color: blue'>1.b.</span>"
   ]
  },
  {
   "cell_type": "code",
   "execution_count": 7,
   "metadata": {},
   "outputs": [
    {
     "data": {
      "text/html": [
       "<div>\n",
       "<style scoped>\n",
       "    .dataframe tbody tr th:only-of-type {\n",
       "        vertical-align: middle;\n",
       "    }\n",
       "\n",
       "    .dataframe tbody tr th {\n",
       "        vertical-align: top;\n",
       "    }\n",
       "\n",
       "    .dataframe thead th {\n",
       "        text-align: right;\n",
       "    }\n",
       "</style>\n",
       "<table border=\"1\" class=\"dataframe\">\n",
       "  <thead>\n",
       "    <tr style=\"text-align: right;\">\n",
       "      <th></th>\n",
       "      <th>book_id</th>\n",
       "      <th>rating</th>\n",
       "      <th>n_votes</th>\n",
       "      <th>n_comments</th>\n",
       "      <th>rev_length</th>\n",
       "    </tr>\n",
       "  </thead>\n",
       "  <tbody>\n",
       "    <tr>\n",
       "      <th>count</th>\n",
       "      <td>1.000000e+04</td>\n",
       "      <td>10000.000000</td>\n",
       "      <td>10000.000000</td>\n",
       "      <td>10000.000000</td>\n",
       "      <td>10000.000000</td>\n",
       "    </tr>\n",
       "    <tr>\n",
       "      <th>mean</th>\n",
       "      <td>1.225775e+07</td>\n",
       "      <td>3.740100</td>\n",
       "      <td>1.587600</td>\n",
       "      <td>0.277800</td>\n",
       "      <td>791.691700</td>\n",
       "    </tr>\n",
       "    <tr>\n",
       "      <th>std</th>\n",
       "      <td>9.452557e+06</td>\n",
       "      <td>1.247921</td>\n",
       "      <td>11.348075</td>\n",
       "      <td>1.502149</td>\n",
       "      <td>1022.915566</td>\n",
       "    </tr>\n",
       "    <tr>\n",
       "      <th>min</th>\n",
       "      <td>1.000000e+00</td>\n",
       "      <td>0.000000</td>\n",
       "      <td>0.000000</td>\n",
       "      <td>0.000000</td>\n",
       "      <td>0.000000</td>\n",
       "    </tr>\n",
       "    <tr>\n",
       "      <th>25%</th>\n",
       "      <td>3.072832e+06</td>\n",
       "      <td>3.000000</td>\n",
       "      <td>0.000000</td>\n",
       "      <td>0.000000</td>\n",
       "      <td>157.000000</td>\n",
       "    </tr>\n",
       "    <tr>\n",
       "      <th>50%</th>\n",
       "      <td>1.200049e+07</td>\n",
       "      <td>4.000000</td>\n",
       "      <td>0.000000</td>\n",
       "      <td>0.000000</td>\n",
       "      <td>429.000000</td>\n",
       "    </tr>\n",
       "    <tr>\n",
       "      <th>75%</th>\n",
       "      <td>1.858486e+07</td>\n",
       "      <td>5.000000</td>\n",
       "      <td>1.000000</td>\n",
       "      <td>0.000000</td>\n",
       "      <td>983.000000</td>\n",
       "    </tr>\n",
       "    <tr>\n",
       "      <th>max</th>\n",
       "      <td>3.630763e+07</td>\n",
       "      <td>5.000000</td>\n",
       "      <td>355.000000</td>\n",
       "      <td>45.000000</td>\n",
       "      <td>14306.000000</td>\n",
       "    </tr>\n",
       "  </tbody>\n",
       "</table>\n",
       "</div>"
      ],
      "text/plain": [
       "            book_id        rating       n_votes    n_comments    rev_length\n",
       "count  1.000000e+04  10000.000000  10000.000000  10000.000000  10000.000000\n",
       "mean   1.225775e+07      3.740100      1.587600      0.277800    791.691700\n",
       "std    9.452557e+06      1.247921     11.348075      1.502149   1022.915566\n",
       "min    1.000000e+00      0.000000      0.000000      0.000000      0.000000\n",
       "25%    3.072832e+06      3.000000      0.000000      0.000000    157.000000\n",
       "50%    1.200049e+07      4.000000      0.000000      0.000000    429.000000\n",
       "75%    1.858486e+07      5.000000      1.000000      0.000000    983.000000\n",
       "max    3.630763e+07      5.000000    355.000000     45.000000  14306.000000"
      ]
     },
     "execution_count": 7,
     "metadata": {},
     "output_type": "execute_result"
    }
   ],
   "source": [
    "# Display basic summary statistics (such as mean, min, max) for the numeric variables\n",
    "\n",
    "data.describe()"
   ]
  },
  {
   "cell_type": "code",
   "execution_count": 8,
   "metadata": {},
   "outputs": [
    {
     "name": "stdout",
     "output_type": "stream",
     "text": [
      "Number of unique users:  649\n",
      "Number of unique books:  6465\n"
     ]
    }
   ],
   "source": [
    "# Compute the total number of unique users and unique books in the data. \n",
    "\n",
    "print(\"Number of unique users: \", len(set(data.user_id)))\n",
    "print(\"Number of unique books: \", len(set(data.book_id)))"
   ]
  },
  {
   "cell_type": "code",
   "execution_count": 9,
   "metadata": {},
   "outputs": [
    {
     "data": {
      "text/plain": [
       "user_id       0\n",
       "book_id       0\n",
       "review_id     0\n",
       "rating        0\n",
       "n_votes       0\n",
       "n_comments    0\n",
       "rev_length    0\n",
       "dtype: int64"
      ]
     },
     "execution_count": 9,
     "metadata": {},
     "output_type": "execute_result"
    }
   ],
   "source": [
    "# Check to see if there are any null values for any of the variables\n",
    "\n",
    "df.isnull().sum()"
   ]
  },
  {
   "cell_type": "markdown",
   "metadata": {},
   "source": [
    "There are no null values"
   ]
  },
  {
   "cell_type": "markdown",
   "metadata": {},
   "source": [
    "## <span style = 'color: blue'>1.c.</span>"
   ]
  },
  {
   "cell_type": "code",
   "execution_count": 10,
   "metadata": {},
   "outputs": [
    {
     "data": {
      "image/png": "[encoded data removed]",
      "text/plain": [
       "<Figure size 432x288 with 1 Axes>"
      ]
     },
     "metadata": {
      "needs_background": "light"
     },
     "output_type": "display_data"
    }
   ],
   "source": [
    "plt.hist(data['n_votes'], bins = 100);"
   ]
  },
  {
   "cell_type": "code",
   "execution_count": 11,
   "metadata": {},
   "outputs": [
    {
     "data": {
      "image/png": "[encoded data removed]",
      "text/plain": [
       "<Figure size 432x288 with 1 Axes>"
      ]
     },
     "metadata": {
      "needs_background": "light"
     },
     "output_type": "display_data"
    }
   ],
   "source": [
    "data.boxplot(column=['n_votes'], return_type='axes');"
   ]
  },
  {
   "cell_type": "code",
   "execution_count": 12,
   "metadata": {},
   "outputs": [
    {
     "data": {
      "image/png": "[encoded data removed]",
      "text/plain": [
       "<Figure size 432x288 with 1 Axes>"
      ]
     },
     "metadata": {
      "needs_background": "light"
     },
     "output_type": "display_data"
    }
   ],
   "source": [
    "data['n_comments'].plot(kind = 'hist', bins = 30);"
   ]
  },
  {
   "cell_type": "code",
   "execution_count": 13,
   "metadata": {
    "scrolled": true
   },
   "outputs": [
    {
     "data": {
      "image/png": "[encoded data removed]",
      "text/plain": [
       "<Figure size 432x288 with 1 Axes>"
      ]
     },
     "metadata": {
      "needs_background": "light"
     },
     "output_type": "display_data"
    }
   ],
   "source": [
    "data.boxplot(column=['n_comments'], return_type='axes');"
   ]
  },
  {
   "cell_type": "code",
   "execution_count": 14,
   "metadata": {},
   "outputs": [
    {
     "data": {
      "image/png": "[encoded data removed]",
      "text/plain": [
       "<Figure size 432x288 with 1 Axes>"
      ]
     },
     "metadata": {
      "needs_background": "light"
     },
     "output_type": "display_data"
    }
   ],
   "source": [
    "data['rev_length'].plot(kind = 'hist', bins = 1000);"
   ]
  },
  {
   "cell_type": "code",
   "execution_count": 15,
   "metadata": {},
   "outputs": [
    {
     "data": {
      "image/png": "[encoded data removed]",
      "text/plain": [
       "<Figure size 432x288 with 1 Axes>"
      ]
     },
     "metadata": {
      "needs_background": "light"
     },
     "output_type": "display_data"
    }
   ],
   "source": [
    "data.boxplot(column=['rev_length'], return_type='axes');"
   ]
  },
  {
   "cell_type": "code",
   "execution_count": 16,
   "metadata": {},
   "outputs": [
    {
     "name": "stdout",
     "output_type": "stream",
     "text": [
      "4    3265\n",
      "5    3232\n",
      "3    2113\n",
      "2     778\n",
      "0     326\n",
      "1     286\n",
      "Name: rating, dtype: int64\n"
     ]
    },
    {
     "data": {
      "image/png": "[encoded data removed]",
      "text/plain": [
       "<Figure size 432x288 with 1 Axes>"
      ]
     },
     "metadata": {
      "needs_background": "light"
     },
     "output_type": "display_data"
    }
   ],
   "source": [
    "# Compute and display the distribution of the counts of rating values\n",
    "\n",
    "print(data['rating'].value_counts())\n",
    "\n",
    "data['rating'].value_counts(sort = False).plot(kind = 'bar');"
   ]
  },
  {
   "cell_type": "markdown",
   "metadata": {},
   "source": [
    "## <span style = 'color: blue'>1.d.</span>"
   ]
  },
  {
   "cell_type": "code",
   "execution_count": 17,
   "metadata": {},
   "outputs": [
    {
     "data": {
      "image/png": "[encoded data removed]",
      "text/plain": [
       "<Figure size 432x288 with 1 Axes>"
      ]
     },
     "metadata": {
      "needs_background": "light"
     },
     "output_type": "display_data"
    }
   ],
   "source": [
    "# Display the distribution of user rating frequncy\n",
    "\n",
    "\n",
    "from collections import Counter\n",
    "\n",
    "u_count = Counter(data.user_id)\n",
    "user_freqs = np.array(list(u_count.values()))\n",
    "\n",
    "plt.plot(sorted(user_freqs, reverse=True))\n",
    "plt.ylabel('Rating Frequency')\n",
    "plt.xlabel('Users')\n",
    "plt.show();\n"
   ]
  },
  {
   "cell_type": "code",
   "execution_count": 18,
   "metadata": {
    "scrolled": true
   },
   "outputs": [
    {
     "data": {
      "image/png": "[encoded data removed]",
      "text/plain": [
       "<Figure size 432x288 with 1 Axes>"
      ]
     },
     "metadata": {
      "needs_background": "light"
     },
     "output_type": "display_data"
    }
   ],
   "source": [
    "# Display the distribution of book rating frequncy\n",
    "\n",
    "b_count = Counter(data.book_id)\n",
    "book_freqs = np.array(list(b_count.values()))\n",
    "\n",
    "plt.plot(sorted(book_freqs, reverse=True))\n",
    "plt.ylabel('Rating Frequency')\n",
    "plt.xlabel('Books')\n",
    "plt.show();\n"
   ]
  },
  {
   "cell_type": "markdown",
   "metadata": {},
   "source": [
    "## <span style = 'color: blue'>1.e.</span>"
   ]
  },
  {
   "cell_type": "code",
   "execution_count": 19,
   "metadata": {},
   "outputs": [
    {
     "data": {
      "text/html": [
       "<div>\n",
       "<style scoped>\n",
       "    .dataframe tbody tr th:only-of-type {\n",
       "        vertical-align: middle;\n",
       "    }\n",
       "\n",
       "    .dataframe tbody tr th {\n",
       "        vertical-align: top;\n",
       "    }\n",
       "\n",
       "    .dataframe thead th {\n",
       "        text-align: right;\n",
       "    }\n",
       "</style>\n",
       "<table border=\"1\" class=\"dataframe\">\n",
       "  <thead>\n",
       "    <tr style=\"text-align: right;\">\n",
       "      <th></th>\n",
       "      <th>rating</th>\n",
       "      <th>n_votes</th>\n",
       "      <th>n_comments</th>\n",
       "      <th>rev_length</th>\n",
       "    </tr>\n",
       "  </thead>\n",
       "  <tbody>\n",
       "    <tr>\n",
       "      <th>rating</th>\n",
       "      <td>1.000000</td>\n",
       "      <td>0.009662</td>\n",
       "      <td>-0.030303</td>\n",
       "      <td>0.056344</td>\n",
       "    </tr>\n",
       "    <tr>\n",
       "      <th>n_votes</th>\n",
       "      <td>0.009662</td>\n",
       "      <td>1.000000</td>\n",
       "      <td>0.334845</td>\n",
       "      <td>0.024292</td>\n",
       "    </tr>\n",
       "    <tr>\n",
       "      <th>n_comments</th>\n",
       "      <td>-0.030303</td>\n",
       "      <td>0.334845</td>\n",
       "      <td>1.000000</td>\n",
       "      <td>0.147511</td>\n",
       "    </tr>\n",
       "    <tr>\n",
       "      <th>rev_length</th>\n",
       "      <td>0.056344</td>\n",
       "      <td>0.024292</td>\n",
       "      <td>0.147511</td>\n",
       "      <td>1.000000</td>\n",
       "    </tr>\n",
       "  </tbody>\n",
       "</table>\n",
       "</div>"
      ],
      "text/plain": [
       "              rating   n_votes  n_comments  rev_length\n",
       "rating      1.000000  0.009662   -0.030303    0.056344\n",
       "n_votes     0.009662  1.000000    0.334845    0.024292\n",
       "n_comments -0.030303  0.334845    1.000000    0.147511\n",
       "rev_length  0.056344  0.024292    0.147511    1.000000"
      ]
     },
     "execution_count": 19,
     "metadata": {},
     "output_type": "execute_result"
    }
   ],
   "source": [
    "# Create a correlation matrix\n",
    "\n",
    "corr_mat = data.drop(['book_id'], axis = 1).corr()\n",
    "corr_mat"
   ]
  },
  {
   "cell_type": "markdown",
   "metadata": {},
   "source": [
    "It seems that there is no significant correlation between variables. There is a slight correlation between rev_length and n_comments."
   ]
  },
  {
   "cell_type": "markdown",
   "metadata": {},
   "source": [
    "# <span style = 'color: green'>Part 2. Regression-Based Prediction Models</span>"
   ]
  },
  {
   "cell_type": "markdown",
   "metadata": {},
   "source": [
    "## <span style = 'color: blue'>2.a.</span>"
   ]
  },
  {
   "cell_type": "code",
   "execution_count": 20,
   "metadata": {},
   "outputs": [],
   "source": [
    "# Construct and evaluate a basic regression models to predict the \"rating\" value\n",
    "\n",
    "X = data.drop(['rating', 'user_id', 'book_id', 'review_id'], axis = 1)\n",
    "y = data['rating']"
   ]
  },
  {
   "cell_type": "code",
   "execution_count": 21,
   "metadata": {},
   "outputs": [],
   "source": [
    "from sklearn.model_selection import train_test_split as sklrn_split_data\n",
    "X_train, X_test, y_train, y_test = sklrn_split_data(X, y, test_size=0.2, random_state=33)"
   ]
  },
  {
   "cell_type": "code",
   "execution_count": 22,
   "metadata": {},
   "outputs": [],
   "source": [
    "# Normalizing the data \n",
    "\n",
    "from sklearn.preprocessing import MinMaxScaler\n",
    "\n",
    "scaler = MinMaxScaler()\n",
    "scaler.fit(X_train)\n",
    "X_train_scaled = scaler.transform(X_train)\n",
    "X_test_scaled = scaler.transform(X_test)"
   ]
  },
  {
   "cell_type": "code",
   "execution_count": 23,
   "metadata": {},
   "outputs": [
    {
     "name": "stdout",
     "output_type": "stream",
     "text": [
      "Final RMSE on Test Set (Linear Regression): 1.2369821856234013\n"
     ]
    }
   ],
   "source": [
    "# Build linear regression object\n",
    "\n",
    "from sklearn.linear_model import LinearRegression\n",
    "from sklearn import metrics\n",
    "\n",
    "linreg = LinearRegression()\n",
    "\n",
    "# Train the model using the training set\n",
    "linreg.fit(X_train_scaled, y_train)\n",
    "\n",
    "# Predict the Price values for the test data\n",
    "test_preds = linreg.predict(X_test_scaled)\n",
    "\n",
    "linreg_rmse = np.sqrt(metrics.mean_squared_error(y_test, test_preds))\n",
    "print(\"Final RMSE on Test Set (Linear Regression):\", linreg_rmse.mean())"
   ]
  },
  {
   "cell_type": "markdown",
   "metadata": {},
   "source": [
    "## <span style = 'color: blue'>2.b.</span>"
   ]
  },
  {
   "cell_type": "code",
   "execution_count": 24,
   "metadata": {},
   "outputs": [],
   "source": [
    "from sklearn.linear_model import Ridge\n",
    "from sklearn.model_selection import cross_val_score"
   ]
  },
  {
   "cell_type": "code",
   "execution_count": 25,
   "metadata": {},
   "outputs": [
    {
     "name": "stdout",
     "output_type": "stream",
     "text": [
      "0.000\t1.2472\n",
      "0.010\t1.2472\n",
      "0.100\t1.2471\n",
      "0.500\t1.2471\n",
      "1.000\t1.2471\n",
      "5.000\t1.2474\n",
      "10.000\t1.2476\n",
      "50.000\t1.2485\n",
      "100.000\t1.2489\n",
      "300.000\t1.2492\n",
      "500.000\t1.2494\n",
      "700.000\t1.2494\n",
      "1000.000\t1.2494\n",
      "1500.000\t1.2495\n",
      "2000.000\t1.2495\n",
      "2500.000\t1.2495\n",
      "3000.000\t1.2495\n"
     ]
    }
   ],
   "source": [
    "alpha = [0.0, 0.01, 0.1, 0.5, 1.0, 5.0, 10.0, 50.0, 100.0, 300.0, 500.0, 700.0, 1000.0, 1500.0, 2000.0, 2500.0, 3000.0]\n",
    "# alpha = [0.001, 0.005, 0.01, 0.05, 0.1, 0.2, 0.5, 0.7, 0.8, 1.0, 2.0, 3.0, 5.0, 7.0, 10.0]\n",
    "# alpha = [0.001, 0.005, 0.01, 0.05, 0.1, 0.2, 0.3, 0.5, 0.5, 0.6, 0.7, 0.8, 0.9, 1.0, 1.2, 1.5, 2.0]\n",
    "\n",
    "rmse = np.array([])\n",
    "for a in alpha:\n",
    "    ridge_regression = Ridge(alpha = a)\n",
    "    \n",
    "    scores = cross_val_score(ridge_regression, X_train_scaled, y_train, cv = 5, scoring = 'neg_mean_squared_error')\n",
    "    scores = np.sqrt(abs(scores))\n",
    "    \n",
    "    rmse = np.append(rmse, [scores.mean()])\n",
    "    print('{:.3f}\\t{:.4f}'.format(a,scores.mean()))"
   ]
  },
  {
   "cell_type": "markdown",
   "metadata": {},
   "source": [
    "# Note:\n",
    "\n",
    "### From the above results, the lowest value of RMSE is 1.2471. For this case, alpha is some point between 0.1 and 0.5. \n",
    "### However, the below chart does not show the lowest point properly because the range of alpha in the above computation is very wide. "
   ]
  },
  {
   "cell_type": "code",
   "execution_count": 26,
   "metadata": {
    "scrolled": true
   },
   "outputs": [
    {
     "data": {
      "text/plain": [
       "Text(0, 0.5, 'RMSE')"
      ]
     },
     "execution_count": 26,
     "metadata": {},
     "output_type": "execute_result"
    },
    {
     "data": {
      "image/png": "[encoded data removed]",
      "text/plain": [
       "<Figure size 432x288 with 1 Axes>"
      ]
     },
     "metadata": {
      "needs_background": "light"
     },
     "output_type": "display_data"
    }
   ],
   "source": [
    "# plt.figure(figsize=(20,10))\n",
    "plt.plot(alpha, rmse, label='Ridge Regression X-Validation')\n",
    "plt.legend(loc=0)\n",
    "plt.xlabel(\"Regularization Coefficient\")\n",
    "plt.ylabel(\"RMSE\")\n"
   ]
  },
  {
   "cell_type": "markdown",
   "metadata": {},
   "source": [
    "## So, I repeat the computation with a more narrow range for alpha."
   ]
  },
  {
   "cell_type": "code",
   "execution_count": 27,
   "metadata": {},
   "outputs": [
    {
     "name": "stdout",
     "output_type": "stream",
     "text": [
      "0.001\t1.2472\n",
      "0.005\t1.2472\n",
      "0.010\t1.2472\n",
      "0.050\t1.2472\n",
      "0.100\t1.2471\n",
      "0.200\t1.2471\n",
      "0.300\t1.2471\n",
      "0.500\t1.2471\n",
      "0.500\t1.2471\n",
      "0.600\t1.2471\n",
      "0.700\t1.2471\n",
      "0.800\t1.2471\n",
      "0.900\t1.2471\n",
      "1.000\t1.2471\n",
      "1.200\t1.2471\n",
      "1.500\t1.2472\n",
      "2.000\t1.2472\n"
     ]
    }
   ],
   "source": [
    "alpha = [0.001, 0.005, 0.01, 0.05, 0.1, 0.2, 0.3, 0.5, 0.5, 0.6, 0.7, 0.8, 0.9, 1.0, 1.2, 1.5, 2.0]\n",
    "\n",
    "rmse = np.array([])\n",
    "for a in alpha:\n",
    "    ridge_regression = Ridge(alpha = a)\n",
    "    \n",
    "    scores = cross_val_score(ridge_regression, X_train_scaled, y_train, cv = 5, scoring = 'neg_mean_squared_error')\n",
    "    scores = np.sqrt(abs(scores))\n",
    "    \n",
    "    rmse = np.append(rmse, [scores.mean()])\n",
    "    print('{:.3f}\\t{:.4f}'.format(a,scores.mean()))"
   ]
  },
  {
   "cell_type": "code",
   "execution_count": 28,
   "metadata": {
    "scrolled": true
   },
   "outputs": [
    {
     "data": {
      "text/plain": [
       "Text(0, 0.5, 'RMSE')"
      ]
     },
     "execution_count": 28,
     "metadata": {},
     "output_type": "execute_result"
    },
    {
     "data": {
      "image/png": "[encoded data removed]",
      "text/plain": [
       "<Figure size 432x288 with 1 Axes>"
      ]
     },
     "metadata": {
      "needs_background": "light"
     },
     "output_type": "display_data"
    }
   ],
   "source": [
    "# plt.figure(figsize=(20,10))\n",
    "plt.plot(alpha, rmse, label='Ridge Regression X-Validation')\n",
    "plt.legend(loc=0)\n",
    "plt.xlabel(\"Regularization Coefficient\")\n",
    "plt.ylabel(\"RMSE\")\n"
   ]
  },
  {
   "cell_type": "markdown",
   "metadata": {},
   "source": [
    "### From the above chart, the lowest point is around 0.6 for alpha"
   ]
  },
  {
   "cell_type": "code",
   "execution_count": 29,
   "metadata": {},
   "outputs": [
    {
     "data": {
      "text/plain": [
       "Ridge(alpha=0.6)"
      ]
     },
     "execution_count": 29,
     "metadata": {},
     "output_type": "execute_result"
    }
   ],
   "source": [
    "ridge_regression = Ridge(alpha = 0.6)\n",
    "ridge_regression.fit(X_train_scaled, y_train)"
   ]
  },
  {
   "cell_type": "code",
   "execution_count": 30,
   "metadata": {},
   "outputs": [
    {
     "name": "stdout",
     "output_type": "stream",
     "text": [
      "[3.72262545 4.01462884 3.71858323 3.72805718 3.75692928 3.71322279\n",
      " 3.73500474 3.73784693 3.89938875 3.23766975]\n"
     ]
    }
   ],
   "source": [
    "ridge_preds = ridge_regression.predict(X_test_scaled)\n",
    "print(ridge_preds[0:10])"
   ]
  },
  {
   "cell_type": "code",
   "execution_count": 31,
   "metadata": {},
   "outputs": [
    {
     "name": "stdout",
     "output_type": "stream",
     "text": [
      "Final RMSE on Test Set (Ridge Regression): 1.236966760744653\n"
     ]
    }
   ],
   "source": [
    "ridge_rmse = np.sqrt(metrics.mean_squared_error(y_test, ridge_preds))\n",
    "print(\"Final RMSE on Test Set (Ridge Regression):\", ridge_rmse.mean())"
   ]
  },
  {
   "cell_type": "markdown",
   "metadata": {},
   "source": [
    "# <span style = 'color: green'>Part 3. Simple Popularity Based Prediction Model</span>"
   ]
  },
  {
   "cell_type": "markdown",
   "metadata": {},
   "source": [
    "## <span style = 'color: blue'>3.a.</span>"
   ]
  },
  {
   "cell_type": "code",
   "execution_count": 32,
   "metadata": {},
   "outputs": [],
   "source": [
    "# Filter data to have only Rate, User_ID, and Book_ID\n",
    "# pop_data = data.drop(['review_id', 'n_votes', 'n_comments', 'rev_length'], axis = 1)\n",
    "\n",
    "pop_x = data.drop(['review_id', 'n_votes', 'n_comments', 'rev_length', 'rating'], axis = 1)\n",
    "pop_y = data['rating']\n",
    "\n",
    "# Split data to %80 train and %20 test with Scikit Learn\n",
    "# train_data, test_data = sklrn_split_data(pop_data, test_size=0.2, random_state=33)\n",
    "\n",
    "Xtrain, Xtest, Ytrain, Ytest = sklrn_split_data(pop_x, pop_y, test_size=0.2, random_state=33)"
   ]
  },
  {
   "cell_type": "code",
   "execution_count": 33,
   "metadata": {},
   "outputs": [],
   "source": [
    "def train(train_data, test_len):\n",
    "    pred = train_data.mean()\n",
    "    lst = []\n",
    "    for i in range(test_len):\n",
    "        lst.append(pred)\n",
    "    return lst"
   ]
  },
  {
   "cell_type": "code",
   "execution_count": 34,
   "metadata": {},
   "outputs": [],
   "source": [
    "def test(test_data, predicted_data):\n",
    "    err = (test_data - predicted_data)\n",
    "    e = np.array(err)\n",
    "    total_error = np.dot(e,e)\n",
    "    rmse = np.sqrt(total_error/len(predicted_data))\n",
    "    return rmse\n",
    "    "
   ]
  },
  {
   "cell_type": "code",
   "execution_count": 35,
   "metadata": {},
   "outputs": [
    {
     "name": "stdout",
     "output_type": "stream",
     "text": [
      "RMSE on Training Data (Popularity Based Prediction Model):  1.2413757489173052\n"
     ]
    }
   ],
   "source": [
    "preds = train(Ytrain, len(Ytest))\n",
    "pop_rmse = test(Ytest, preds)\n",
    "print(\"RMSE on Training Data (Popularity Based Prediction Model): \", pop_rmse)"
   ]
  },
  {
   "cell_type": "markdown",
   "metadata": {},
   "source": [
    "# <span style = 'color: green'>Part 4. Trying out the Scikit Surpise Package for Recommendation</span>"
   ]
  },
  {
   "cell_type": "markdown",
   "metadata": {},
   "source": [
    "## <span style = 'color: blue'>4.a.</span>"
   ]
  },
  {
   "cell_type": "code",
   "execution_count": 36,
   "metadata": {},
   "outputs": [],
   "source": [
    "from surprise import NormalPredictor\n",
    "from surprise import Dataset\n",
    "from surprise import Reader\n",
    "from surprise.model_selection import cross_validate\n",
    "\n",
    "# Create a ratings data frame with only the columns for user_id, Item_id and rating\n",
    "rating_df = data[['user_id', 'book_id', 'rating']]\n",
    "\n",
    "# Define a \"reader\" for this data set and specifying a rating_scale\n",
    "reader = Reader(rating_scale=(1, 5))\n",
    "\n",
    "# load the ratings data into a Surprise rating data structure\n",
    "data_surpise = Dataset.load_from_df(rating_df[['user_id', 'book_id', 'rating']], reader)\n",
    "\n"
   ]
  },
  {
   "cell_type": "markdown",
   "metadata": {},
   "source": [
    "## <span style = 'color: blue'>4.b.</span>"
   ]
  },
  {
   "cell_type": "code",
   "execution_count": 37,
   "metadata": {},
   "outputs": [
    {
     "name": "stdout",
     "output_type": "stream",
     "text": [
      "Evaluating RMSE of algorithm SVD on 5 split(s).\n",
      "\n",
      "                  Fold 1  Fold 2  Fold 3  Fold 4  Fold 5  Mean    Std     \n",
      "RMSE (testset)    1.0959  1.1427  1.1204  1.1738  1.0940  1.1254  0.0301  \n",
      "Fit time          0.50    0.44    0.41    0.44    0.46    0.45    0.03    \n",
      "Test time         0.01    0.01    0.01    0.01    0.01    0.01    0.00    \n"
     ]
    }
   ],
   "source": [
    "from surprise import SVD\n",
    "\n",
    "# Create an instance of the SVD()\n",
    "algo = SVD()\n",
    "\n",
    "# Run 5-fold cross-validation and print results\n",
    "cv_results_SVD = cross_validate(algo, data_surpise, measures=['RMSE'], cv=5, verbose=True)"
   ]
  },
  {
   "cell_type": "code",
   "execution_count": 38,
   "metadata": {},
   "outputs": [
    {
     "data": {
      "text/plain": [
       "{'test_rmse': array([1.0959215 , 1.14273478, 1.12035396, 1.17380632, 1.09403071]),\n",
       " 'fit_time': (0.4976694583892822,\n",
       "  0.44083285331726074,\n",
       "  0.41313862800598145,\n",
       "  0.4378199577331543,\n",
       "  0.4579155445098877),\n",
       " 'test_time': (0.011967182159423828,\n",
       "  0.009972810745239258,\n",
       "  0.00997304916381836,\n",
       "  0.010969400405883789,\n",
       "  0.013962030410766602)}"
      ]
     },
     "execution_count": 38,
     "metadata": {},
     "output_type": "execute_result"
    }
   ],
   "source": [
    "cv_results_SVD"
   ]
  },
  {
   "cell_type": "markdown",
   "metadata": {},
   "source": [
    "## <span style = 'color: blue'>4.c.</span>"
   ]
  },
  {
   "cell_type": "code",
   "execution_count": 39,
   "metadata": {},
   "outputs": [
    {
     "name": "stdout",
     "output_type": "stream",
     "text": [
      "RMSE: 1.1031\n",
      "SVD-based model RMSE:  1.103106533307545\n"
     ]
    }
   ],
   "source": [
    "from surprise import accuracy\n",
    "from surprise.model_selection import train_test_split as srps_split_data\n",
    "\n",
    "# Split dataset with with test_size=0.2\n",
    "trainset, testset = srps_split_data(data_surpise, test_size = 0.2, random_state = 40)\n",
    "\n",
    "# Create an instance of SVD predictor with 50 as the number of latent factors \n",
    "algo = SVD(n_factors=50)\n",
    "\n",
    "# Train the model on the 80% training set\n",
    "algo.fit(trainset)\n",
    "\n",
    "# Compute predictions for the 20% test set\n",
    "predictions = algo.test(testset)\n",
    "\n",
    "# Compute the RMSE on the test set prediction\n",
    "svd_rmse = accuracy.rmse(predictions)\n",
    "\n",
    "print('SVD-based model RMSE: ', svd_rmse)"
   ]
  },
  {
   "cell_type": "code",
   "execution_count": 40,
   "metadata": {},
   "outputs": [
    {
     "data": {
      "image/png": "[encoded data removed]",
      "text/plain": [
       "<Figure size 1080x504 with 1 Axes>"
      ]
     },
     "metadata": {
      "needs_background": "light"
     },
     "output_type": "display_data"
    }
   ],
   "source": [
    "# Compare results\n",
    "\n",
    "import matplotlib.colors as mcolors\n",
    "\n",
    "x = ['Linear Regression', 'Ridge Regreesion', 'Popularity-Based', 'SVD-Based']\n",
    "y = [linreg_rmse.mean(), ridge_rmse.mean(), pop_rmse, svd_rmse]\n",
    "\n",
    "fig = plt.figure(figsize=(15,7))\n",
    "\n",
    "ax1 = fig.add_subplot(111)\n",
    "ax1.set_xlabel('Models')\n",
    "ax1.set_ylabel('Mean Absolute Error')\n",
    "ax1.set_title('Compare Models')\n",
    "ax1.set_ylim(1.0, 1.25)\n",
    "plt.bar(x, y, color= mcolors.BASE_COLORS);"
   ]
  },
  {
   "cell_type": "markdown",
   "metadata": {},
   "source": [
    "As we can see in the above chart, the SVD_Based model which obtained with the surprise package provided a significantly better result in comparison to others. Also, the Popularity-Based model provided the worst result among all these 4 models."
   ]
  },
  {
   "cell_type": "code",
   "execution_count": null,
   "metadata": {},
   "outputs": [],
   "source": []
  }
 ],
 "metadata": {
  "kernelspec": {
   "display_name": "Python 3",
   "language": "python",
   "name": "python3"
  },
  "language_info": {
   "codemirror_mode": {
    "name": "ipython",
    "version": 3
   },
   "file_extension": ".py",
   "mimetype": "text/x-python",
   "name": "python",
   "nbconvert_exporter": "python",
   "pygments_lexer": "ipython3",
   "version": "3.8.5"
  }
 },
 "nbformat": 4,
 "nbformat_minor": 4
}
